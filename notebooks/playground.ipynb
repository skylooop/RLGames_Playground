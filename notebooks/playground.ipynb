{
 "cells": [
  {
   "cell_type": "code",
   "execution_count": 6,
   "id": "900ae056-f889-497f-9994-f75ca24b3f4b",
   "metadata": {},
   "outputs": [],
   "source": [
    "from vizdoom import *\n",
    "import random\n",
    "import time\n",
    "import numpy as np"
   ]
  },
  {
   "cell_type": "code",
   "execution_count": 4,
   "id": "56d284a9-ab73-41bd-b487-10e9f0a2a6ee",
   "metadata": {},
   "outputs": [
    {
     "name": "stderr",
     "output_type": "stream",
     "text": [
      "xcb_connection_has_error() returned true\n",
      "xcb_connection_has_error() returned true\n"
     ]
    }
   ],
   "source": [
    "game = DoomGame()\n",
    "game.load_config('ViZDoom/scenarios/basic.cfg')\n",
    "game.set_window_visible(False) # for remote machines\n",
    "game.init()"
   ]
  },
  {
   "cell_type": "code",
   "execution_count": 11,
   "id": "2f37d2ad-6770-4f80-8b0f-08b016e59f3c",
   "metadata": {},
   "outputs": [
    {
     "data": {
      "text/plain": [
       "array([1, 0, 0], dtype=uint8)"
      ]
     },
     "execution_count": 11,
     "metadata": {},
     "output_type": "execute_result"
    }
   ],
   "source": [
    "random.choice(np.identity(3, dtype=np.uint8))"
   ]
  },
  {
   "cell_type": "code",
   "execution_count": 14,
   "id": "0629d548-6d42-4f0c-9614-6fca4d6f4185",
   "metadata": {},
   "outputs": [
    {
     "data": {
      "text/plain": [
       "-1.0"
      ]
     },
     "execution_count": 14,
     "metadata": {},
     "output_type": "execute_result"
    }
   ],
   "source": [
    "game.make_action(random.choice(np.identity(3, dtype=np.uint8)))"
   ]
  },
  {
   "cell_type": "code",
   "execution_count": null,
   "id": "02b58e5e-7d44-495c-8a92-2303c1787d9a",
   "metadata": {},
   "outputs": [],
   "source": [
    "actions = np.identity(3, dtype=np.uint8)\n",
    "\n",
    "episodes = 10\n",
    "for episode in range(episodes):\n",
    "    game.new_episode()\n",
    "    \n",
    "    while not game.is_episode_finished():\n",
    "        state = game.get_state()\n",
    "        img = state.screen_buffer\n",
    "        info = state.game_variables\n",
    "        reward = game.make_action(random.choice(actions))\n",
    "        print(re"
   ]
  }
 ],
 "metadata": {
  "kernelspec": {
   "display_name": "Python 3 (ipykernel)",
   "language": "python",
   "name": "python3"
  },
  "language_info": {
   "codemirror_mode": {
    "name": "ipython",
    "version": 3
   },
   "file_extension": ".py",
   "mimetype": "text/x-python",
   "name": "python",
   "nbconvert_exporter": "python",
   "pygments_lexer": "ipython3",
   "version": "3.10.9"
  }
 },
 "nbformat": 4,
 "nbformat_minor": 5
}
